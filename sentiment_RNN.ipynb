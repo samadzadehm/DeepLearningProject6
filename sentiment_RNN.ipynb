{
 "nbformat": 4,
 "nbformat_minor": 0,
 "metadata": {
  "colab": {
   "provenance": [],
   "gpuType": "T4"
  },
  "kernelspec": {
   "name": "python3",
   "display_name": "Python 3"
  },
  "language_info": {
   "name": "python"
  },
  "accelerator": "GPU"
 },
 "cells": [
  {
   "cell_type": "code",
   "execution_count": null,
   "metadata": {
    "id": "D_V1F55t-j-5"
   },
   "outputs": [],
   "source": [
    "import tensorflow as tf\n",
    "from keras.datasets import imdb\n",
    "from keras import layers, models, losses, optimizers\n",
    "from keras.utils import pad_sequences"
   ]
  },
  {
   "cell_type": "code",
   "source": [
    "vocab_size = 5000\n",
    "\n",
    "(X_train, y_train), (X_test, y_test) = imdb.load_data(num_words=vocab_size)\n",
    "maxlen = 200\n",
    "\n",
    "X_train = pad_sequences(X_train, maxlen=maxlen)\n",
    "X_test = pad_sequences(X_test, maxlen=maxlen)"
   ],
   "metadata": {
    "colab": {
     "base_uri": "https://localhost:8080/"
    },
    "id": "6LFZVzXB-8GG",
    "outputId": "85cd1cec-dcf6-411d-8fbb-d20459460dc0"
   },
   "execution_count": null,
   "outputs": [
    {
     "output_type": "stream",
     "name": "stdout",
     "text": [
      "Downloading data from https://storage.googleapis.com/tensorflow/tf-keras-datasets/imdb.npz\n",
      "17464789/17464789 [==============================] - 0s 0us/step\n"
     ]
    }
   ]
  },
  {
   "cell_type": "code",
   "source": [
    "tf.random.set_seed(42)\n",
    "embedding_size = 32\n",
    "model = models.Sequential()\n",
    "model.add(layers.Embedding(vocab_size, embedding_size))\n",
    "model.add(layers.LSTM(50, return_sequences=True, dropout=0.2))\n",
    "model.add(layers.LSTM(50, dropout=0.2))\n",
    "model.add(layers.Dense(1, activation='sigmoid'))\n",
    "\n",
    "optimizer = optimizers.Adam(lr=0.003)\n",
    "\n",
    "model.compile(loss='binary_crossentropy',\n",
    "              optimizer=optimizer,\n",
    "              metrics=['accuracy'])\n",
    "\n"
   ],
   "metadata": {
    "id": "89dPhgbl_BqM"
   },
   "execution_count": null,
   "outputs": []
  },
  {
   "cell_type": "code",
   "source": [
    "n_epoch = 10\n",
    "batch_size = 64\n",
    "\n",
    "model.fit(X_train, y_train,\n",
    "          batch_size=batch_size,\n",
    "          epochs=n_epoch,\n",
    "          validation_data=(X_test, y_test))\n",
    "\n",
    "acc = model.evaluate(X_test, y_test, verbose=0)[1]\n",
    "\n",
    "print('Test accuracy with stacked LSTM:', acc)\n"
   ],
   "metadata": {
    "colab": {
     "base_uri": "https://localhost:8080/"
    },
    "id": "ISX05b6H_Lb5",
    "outputId": "e9304950-395e-499a-9231-8c9a62163da8"
   },
   "execution_count": null,
   "outputs": [
    {
     "output_type": "stream",
     "name": "stdout",
     "text": [
      "Epoch 1/10\n",
      "391/391 [==============================] - 12s 23ms/step - loss: 0.4231 - accuracy: 0.8040 - val_loss: 0.4486 - val_accuracy: 0.8000\n",
      "Epoch 2/10\n",
      "391/391 [==============================] - 8s 22ms/step - loss: 0.3113 - accuracy: 0.8716 - val_loss: 0.3232 - val_accuracy: 0.8625\n",
      "Epoch 3/10\n",
      "391/391 [==============================] - 11s 28ms/step - loss: 0.2468 - accuracy: 0.9020 - val_loss: 0.3251 - val_accuracy: 0.8655\n",
      "Epoch 4/10\n",
      "391/391 [==============================] - 11s 28ms/step - loss: 0.2132 - accuracy: 0.9177 - val_loss: 0.3310 - val_accuracy: 0.8688\n",
      "Epoch 5/10\n",
      "391/391 [==============================] - 11s 28ms/step - loss: 0.1822 - accuracy: 0.9319 - val_loss: 0.3569 - val_accuracy: 0.8711\n",
      "Epoch 6/10\n",
      "391/391 [==============================] - 8s 21ms/step - loss: 0.1571 - accuracy: 0.9404 - val_loss: 0.3776 - val_accuracy: 0.8672\n",
      "Epoch 7/10\n",
      "391/391 [==============================] - 9s 23ms/step - loss: 0.1402 - accuracy: 0.9472 - val_loss: 0.3868 - val_accuracy: 0.8614\n",
      "Epoch 8/10\n",
      "391/391 [==============================] - 9s 22ms/step - loss: 0.1368 - accuracy: 0.9499 - val_loss: 0.3467 - val_accuracy: 0.8666\n",
      "Epoch 9/10\n",
      "391/391 [==============================] - 8s 21ms/step - loss: 0.1053 - accuracy: 0.9620 - val_loss: 0.4216 - val_accuracy: 0.8633\n",
      "Epoch 10/10\n",
      "391/391 [==============================] - 8s 21ms/step - loss: 0.1097 - accuracy: 0.9612 - val_loss: 0.4403 - val_accuracy: 0.8646\n",
      "Test accuracy with stacked LSTM: 0.8646000027656555\n"
     ]
    }
   ]
  },
  {
   "cell_type": "code",
   "source": [
    "model = models.Sequential()\n",
    "model.add(layers.Embedding(vocab_size, embedding_size))\n",
    "model.add(layers.Bidirectional(layers.LSTM(50, return_sequences=True, dropout=0.2)))\n",
    "model.add(layers.Bidirectional(layers.LSTM(50, dropout=0.2)))\n",
    "model.add(layers.Dense(1, activation='sigmoid'))\n",
    "\n",
    "print(model.summary())\n",
    "\n",
    "optimizer = optimizers.Adam(lr=0.0001)\n",
    "\n",
    "model.compile(loss='binary_crossentropy',\n",
    "              optimizer=optimizer,\n",
    "              metrics=['accuracy'])"
   ],
   "metadata": {
    "colab": {
     "base_uri": "https://localhost:8080/"
    },
    "id": "czWpmz79_RjP",
    "outputId": "fc8ddde3-391d-46c7-ef8b-a970c9d50e42"
   },
   "execution_count": null,
   "outputs": [
    {
     "output_type": "stream",
     "name": "stdout",
     "text": [
      "Model: \"sequential_10\"\n",
      "_________________________________________________________________\n",
      " Layer (type)                Output Shape              Param #   \n",
      "=================================================================\n",
      " embedding_10 (Embedding)    (None, None, 32)          160000    \n",
      "                                                                 \n",
      " bidirectional_12 (Bidirecti  (None, None, 100)        33200     \n",
      " onal)                                                           \n",
      "                                                                 \n",
      " bidirectional_13 (Bidirecti  (None, 100)              60400     \n",
      " onal)                                                           \n",
      "                                                                 \n",
      " dense_10 (Dense)            (None, 1)                 101       \n",
      "                                                                 \n",
      "=================================================================\n",
      "Total params: 253,701\n",
      "Trainable params: 253,701\n",
      "Non-trainable params: 0\n",
      "_________________________________________________________________\n",
      "None\n"
     ]
    }
   ]
  },
  {
   "cell_type": "code",
   "source": [
    "n_epoch = 10\n",
    "batch_size = 64\n",
    "\n",
    "model.fit(X_train, y_train,\n",
    "          batch_size=batch_size,\n",
    "          epochs=n_epoch,\n",
    "          validation_data=(X_test, y_test))\n",
    "\n",
    "acc = model.evaluate(X_test, y_test, verbose=0)[1]\n",
    "\n",
    "print('Test accuracy with stacked bidirectional LSTM:', acc)"
   ],
   "metadata": {
    "colab": {
     "base_uri": "https://localhost:8080/"
    },
    "id": "GnCsFu7K_UZs",
    "outputId": "7395fc93-dad1-4a0d-a3da-a5e6a82be4f6"
   },
   "execution_count": null,
   "outputs": [
    {
     "output_type": "stream",
     "name": "stdout",
     "text": [
      "Epoch 1/10\n",
      "391/391 [==============================] - 24s 44ms/step - loss: 0.6106 - accuracy: 0.6363 - val_loss: 0.3981 - val_accuracy: 0.8277\n",
      "Epoch 2/10\n",
      "391/391 [==============================] - 16s 42ms/step - loss: 0.3382 - accuracy: 0.8548 - val_loss: 0.3186 - val_accuracy: 0.8679\n",
      "Epoch 3/10\n",
      "391/391 [==============================] - 16s 42ms/step - loss: 0.2751 - accuracy: 0.8890 - val_loss: 0.3054 - val_accuracy: 0.8691\n",
      "Epoch 4/10\n",
      "391/391 [==============================] - 16s 40ms/step - loss: 0.2463 - accuracy: 0.9024 - val_loss: 0.2946 - val_accuracy: 0.8766\n",
      "Epoch 5/10\n",
      "391/391 [==============================] - 17s 42ms/step - loss: 0.2279 - accuracy: 0.9106 - val_loss: 0.2986 - val_accuracy: 0.8756\n",
      "Epoch 6/10\n",
      "391/391 [==============================] - 17s 42ms/step - loss: 0.2141 - accuracy: 0.9171 - val_loss: 0.3017 - val_accuracy: 0.8758\n",
      "Epoch 7/10\n",
      "391/391 [==============================] - 17s 43ms/step - loss: 0.2011 - accuracy: 0.9217 - val_loss: 0.3152 - val_accuracy: 0.8717\n",
      "Epoch 8/10\n",
      "391/391 [==============================] - 17s 42ms/step - loss: 0.1909 - accuracy: 0.9282 - val_loss: 0.3210 - val_accuracy: 0.8697\n",
      "Epoch 9/10\n",
      "391/391 [==============================] - 16s 41ms/step - loss: 0.1855 - accuracy: 0.9284 - val_loss: 0.3445 - val_accuracy: 0.8672\n",
      "Epoch 10/10\n",
      "391/391 [==============================] - 16s 40ms/step - loss: 0.1804 - accuracy: 0.9318 - val_loss: 0.3290 - val_accuracy: 0.8720\n",
      "Test accuracy with stacked bidirectional LSTM: 0.871999979019165\n"
     ]
    }
   ]
  }
 ]
}
